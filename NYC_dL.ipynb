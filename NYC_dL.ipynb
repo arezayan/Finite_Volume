{
  "nbformat": 4,
  "nbformat_minor": 0,
  "metadata": {
    "colab": {
      "provenance": [],
      "authorship_tag": "ABX9TyM2gchumPe8lI9UhqmNAA7K",
      "include_colab_link": true
    },
    "kernelspec": {
      "name": "python3",
      "display_name": "Python 3"
    },
    "language_info": {
      "name": "python"
    },
    "accelerator": "GPU",
    "gpuClass": "standard"
  },
  "cells": [
    {
      "cell_type": "markdown",
      "metadata": {
        "id": "view-in-github",
        "colab_type": "text"
      },
      "source": [
        "<a href=\"https://colab.research.google.com/github/arezayan/Finite_Volume/blob/main/NYC_dL.ipynb\" target=\"_parent\"><img src=\"https://colab.research.google.com/assets/colab-badge.svg\" alt=\"Open In Colab\"/></a>"
      ]
    },
    {
      "cell_type": "code",
      "execution_count": 3,
      "metadata": {
        "id": "9CIrI3oNFLCh"
      },
      "outputs": [],
      "source": [
        "import seaborn as sns\n",
        "import matplotlib.pyplot as plt\n",
        "import numpy as np\n",
        "import pandas as pd\n",
        "\n",
        "#format print on numpy PrintOutS\n",
        "np.set_printoptions(precision=3, suppress=True)\n",
        "\n",
        "###\n",
        "import tensorflow as tf\n",
        "from tensorflow import keras\n",
        "from tensorflow.keras import layers\n",
        "from sklearn.model_selection import train_test_split\n"
      ]
    },
    {
      "cell_type": "code",
      "source": [
        "df=pd.read_excel(r'/content/NYC_first_Df.xlsx')\n",
        "data=df.iloc[:,1:5]\n",
        "temp_air=df.iloc[:,5]\n",
        "x_train, x_test, y_train, y_test = train_test_split(data,temp_air,train_size=0.7, random_state= 42)\n",
        "#x_train=x_train['Center']"
      ],
      "metadata": {
        "id": "b9K6ww7JFR_p"
      },
      "execution_count": null,
      "outputs": []
    },
    {
      "cell_type": "code",
      "source": [
        "train_layer=np.array(x_train)\n",
        "x_train_nor=layers.Normalization(input_shape=[1,] , axis=None)\n",
        "x_train_nor.adapt(train_layer)\n"
      ],
      "metadata": {
        "id": "VQdsZxna9QAX"
      },
      "execution_count": 5,
      "outputs": []
    },
    {
      "cell_type": "code",
      "source": [
        "myModel = tf.keras.Sequential()\n",
        "myModel.add(layers.Dense(64, activation='relu', input_shape=(4,)))\n",
        "myModel.add(layers.Dense(64, activation='relu'))\n",
        "myModel.add(layers.Dense(1))\n",
        "myModel.summary()"
      ],
      "metadata": {
        "colab": {
          "base_uri": "https://localhost:8080/"
        },
        "id": "wndEsMYSK7Lh",
        "outputId": "8b620871-5a08-4b58-a273-099e1a5d51fd"
      },
      "execution_count": 6,
      "outputs": [
        {
          "output_type": "stream",
          "name": "stdout",
          "text": [
            "Model: \"sequential\"\n",
            "_________________________________________________________________\n",
            " Layer (type)                Output Shape              Param #   \n",
            "=================================================================\n",
            " dense (Dense)               (None, 64)                320       \n",
            "                                                                 \n",
            " dense_1 (Dense)             (None, 64)                4160      \n",
            "                                                                 \n",
            " dense_2 (Dense)             (None, 1)                 65        \n",
            "                                                                 \n",
            "=================================================================\n",
            "Total params: 4,545\n",
            "Trainable params: 4,545\n",
            "Non-trainable params: 0\n",
            "_________________________________________________________________\n"
          ]
        }
      ]
    },
    {
      "cell_type": "code",
      "source": [
        "\n",
        "myModel.compile(optimizer=tf.keras.optimizers.SGD(lr=0.001), loss=\"mean_squared_error\")\n"
      ],
      "metadata": {
        "colab": {
          "base_uri": "https://localhost:8080/"
        },
        "id": "Vh9_5D70MmFB",
        "outputId": "f53d5316-f277-4b75-f7fb-12f10f550d82"
      },
      "execution_count": 7,
      "outputs": [
        {
          "output_type": "stream",
          "name": "stderr",
          "text": [
            "/usr/local/lib/python3.8/dist-packages/keras/optimizers/optimizer_v2/gradient_descent.py:108: UserWarning: The `lr` argument is deprecated, use `learning_rate` instead.\n",
            "  super(SGD, self).__init__(name, **kwargs)\n"
          ]
        }
      ]
    },
    {
      "cell_type": "code",
      "source": [
        "history = myModel.fit(x_train, y_train,  epochs=120, validation_split=0.2)"
      ],
      "metadata": {
        "colab": {
          "base_uri": "https://localhost:8080/"
        },
        "id": "u1Z13B_kQlDS",
        "outputId": "f2b3bee4-4c96-4831-da14-d518a0becbf0"
      },
      "execution_count": 8,
      "outputs": [
        {
          "output_type": "stream",
          "name": "stdout",
          "text": [
            "Epoch 1/120\n",
            "4/4 [==============================] - 3s 44ms/step - loss: 1671.5065 - val_loss: 1087.2970\n",
            "Epoch 2/120\n",
            "4/4 [==============================] - 0s 8ms/step - loss: 1076.8796 - val_loss: 1440.4783\n",
            "Epoch 3/120\n",
            "4/4 [==============================] - 0s 7ms/step - loss: 1415.9900 - val_loss: 1401.0901\n",
            "Epoch 4/120\n",
            "4/4 [==============================] - 0s 8ms/step - loss: 1385.1241 - val_loss: 1367.3752\n",
            "Epoch 5/120\n",
            "4/4 [==============================] - 0s 8ms/step - loss: 1352.7117 - val_loss: 1329.9703\n",
            "Epoch 6/120\n",
            "4/4 [==============================] - 0s 9ms/step - loss: 1314.8624 - val_loss: 1285.0452\n",
            "Epoch 7/120\n",
            "4/4 [==============================] - 0s 8ms/step - loss: 1266.9163 - val_loss: 1223.1855\n",
            "Epoch 8/120\n",
            "4/4 [==============================] - 0s 8ms/step - loss: 1199.5232 - val_loss: 1057.0490\n",
            "Epoch 9/120\n",
            "4/4 [==============================] - 0s 8ms/step - loss: 2531.4216 - val_loss: 1562.8971\n",
            "Epoch 10/120\n",
            "4/4 [==============================] - 0s 7ms/step - loss: 1343.2772 - val_loss: 1243.8876\n",
            "Epoch 11/120\n",
            "4/4 [==============================] - 0s 8ms/step - loss: 1220.8232 - val_loss: 1195.8196\n",
            "Epoch 12/120\n",
            "4/4 [==============================] - 0s 8ms/step - loss: 1169.9642 - val_loss: 1132.9349\n",
            "Epoch 13/120\n",
            "4/4 [==============================] - 0s 8ms/step - loss: 1100.6011 - val_loss: 1046.3132\n",
            "Epoch 14/120\n",
            "4/4 [==============================] - 0s 8ms/step - loss: 1004.4843 - val_loss: 926.9573\n",
            "Epoch 15/120\n",
            "4/4 [==============================] - 0s 14ms/step - loss: 873.4261 - val_loss: 769.6199\n",
            "Epoch 16/120\n",
            "4/4 [==============================] - 0s 8ms/step - loss: 705.7351 - val_loss: 580.7127\n",
            "Epoch 17/120\n",
            "4/4 [==============================] - 0s 8ms/step - loss: 513.8406 - val_loss: 385.5289\n",
            "Epoch 18/120\n",
            "4/4 [==============================] - 0s 8ms/step - loss: 327.0969 - val_loss: 219.1785\n",
            "Epoch 19/120\n",
            "4/4 [==============================] - 0s 8ms/step - loss: 178.4717 - val_loss: 105.9701\n",
            "Epoch 20/120\n",
            "4/4 [==============================] - 0s 8ms/step - loss: 83.5221 - val_loss: 44.2759\n",
            "Epoch 21/120\n",
            "4/4 [==============================] - 0s 9ms/step - loss: 34.2668 - val_loss: 16.7133\n",
            "Epoch 22/120\n",
            "4/4 [==============================] - 0s 9ms/step - loss: 12.8156 - val_loss: 5.9956\n",
            "Epoch 23/120\n",
            "4/4 [==============================] - 0s 8ms/step - loss: 4.5203 - val_loss: 2.2978\n",
            "Epoch 24/120\n",
            "4/4 [==============================] - 0s 8ms/step - loss: 1.5912 - val_loss: 1.0960\n",
            "Epoch 25/120\n",
            "4/4 [==============================] - 0s 8ms/step - loss: 0.6021 - val_loss: 0.7122\n",
            "Epoch 26/120\n",
            "4/4 [==============================] - 0s 8ms/step - loss: 0.2713 - val_loss: 0.5744\n",
            "Epoch 27/120\n",
            "4/4 [==============================] - 0s 8ms/step - loss: 0.1593 - val_loss: 0.5022\n",
            "Epoch 28/120\n",
            "4/4 [==============================] - 0s 8ms/step - loss: 0.1165 - val_loss: 0.4181\n",
            "Epoch 29/120\n",
            "4/4 [==============================] - 0s 8ms/step - loss: 0.0915 - val_loss: 0.3741\n",
            "Epoch 30/120\n",
            "4/4 [==============================] - 0s 8ms/step - loss: 0.0785 - val_loss: 0.3351\n",
            "Epoch 31/120\n",
            "4/4 [==============================] - 0s 8ms/step - loss: 0.0694 - val_loss: 0.3006\n",
            "Epoch 32/120\n",
            "4/4 [==============================] - 0s 8ms/step - loss: 0.0621 - val_loss: 0.2696\n",
            "Epoch 33/120\n",
            "4/4 [==============================] - 0s 8ms/step - loss: 0.0566 - val_loss: 0.2414\n",
            "Epoch 34/120\n",
            "4/4 [==============================] - 0s 8ms/step - loss: 0.0508 - val_loss: 0.2036\n",
            "Epoch 35/120\n",
            "4/4 [==============================] - 0s 7ms/step - loss: 0.0443 - val_loss: 0.1817\n",
            "Epoch 36/120\n",
            "4/4 [==============================] - 0s 8ms/step - loss: 0.0407 - val_loss: 0.1642\n",
            "Epoch 37/120\n",
            "4/4 [==============================] - 0s 8ms/step - loss: 0.0370 - val_loss: 0.1482\n",
            "Epoch 38/120\n",
            "4/4 [==============================] - 0s 10ms/step - loss: 0.0341 - val_loss: 0.1337\n",
            "Epoch 39/120\n",
            "4/4 [==============================] - 0s 8ms/step - loss: 0.0317 - val_loss: 0.1203\n",
            "Epoch 40/120\n",
            "4/4 [==============================] - 0s 8ms/step - loss: 0.0293 - val_loss: 0.1036\n",
            "Epoch 41/120\n",
            "4/4 [==============================] - 0s 8ms/step - loss: 0.0267 - val_loss: 0.0945\n",
            "Epoch 42/120\n",
            "4/4 [==============================] - 0s 9ms/step - loss: 0.0251 - val_loss: 0.0859\n",
            "Epoch 43/120\n",
            "4/4 [==============================] - 0s 8ms/step - loss: 0.0236 - val_loss: 0.0783\n",
            "Epoch 44/120\n",
            "4/4 [==============================] - 0s 8ms/step - loss: 0.0223 - val_loss: 0.0677\n",
            "Epoch 45/120\n",
            "4/4 [==============================] - 0s 8ms/step - loss: 0.0205 - val_loss: 0.0625\n",
            "Epoch 46/120\n",
            "4/4 [==============================] - 0s 9ms/step - loss: 0.0196 - val_loss: 0.0578\n",
            "Epoch 47/120\n",
            "4/4 [==============================] - 0s 8ms/step - loss: 0.0187 - val_loss: 0.0533\n",
            "Epoch 48/120\n",
            "4/4 [==============================] - 0s 9ms/step - loss: 0.0180 - val_loss: 0.0490\n",
            "Epoch 49/120\n",
            "4/4 [==============================] - 0s 7ms/step - loss: 0.0174 - val_loss: 0.0454\n",
            "Epoch 50/120\n",
            "4/4 [==============================] - 0s 8ms/step - loss: 0.0168 - val_loss: 0.0421\n",
            "Epoch 51/120\n",
            "4/4 [==============================] - 0s 7ms/step - loss: 0.0162 - val_loss: 0.0392\n",
            "Epoch 52/120\n",
            "4/4 [==============================] - 0s 9ms/step - loss: 0.0158 - val_loss: 0.0355\n",
            "Epoch 53/120\n",
            "4/4 [==============================] - 0s 8ms/step - loss: 0.0152 - val_loss: 0.0333\n",
            "Epoch 54/120\n",
            "4/4 [==============================] - 0s 8ms/step - loss: 0.0149 - val_loss: 0.0313\n",
            "Epoch 55/120\n",
            "4/4 [==============================] - 0s 8ms/step - loss: 0.0146 - val_loss: 0.0295\n",
            "Epoch 56/120\n",
            "4/4 [==============================] - 0s 8ms/step - loss: 0.0143 - val_loss: 0.0272\n",
            "Epoch 57/120\n",
            "4/4 [==============================] - 0s 8ms/step - loss: 0.0139 - val_loss: 0.0257\n",
            "Epoch 58/120\n",
            "4/4 [==============================] - 0s 8ms/step - loss: 0.0137 - val_loss: 0.0245\n",
            "Epoch 59/120\n",
            "4/4 [==============================] - 0s 8ms/step - loss: 0.0135 - val_loss: 0.0232\n",
            "Epoch 60/120\n",
            "4/4 [==============================] - 0s 8ms/step - loss: 0.0134 - val_loss: 0.0221\n",
            "Epoch 61/120\n",
            "4/4 [==============================] - 0s 8ms/step - loss: 0.0132 - val_loss: 0.0212\n",
            "Epoch 62/120\n",
            "4/4 [==============================] - 0s 8ms/step - loss: 0.0131 - val_loss: 0.0203\n",
            "Epoch 63/120\n",
            "4/4 [==============================] - 0s 8ms/step - loss: 0.0129 - val_loss: 0.0195\n",
            "Epoch 64/120\n",
            "4/4 [==============================] - 0s 9ms/step - loss: 0.0128 - val_loss: 0.0187\n",
            "Epoch 65/120\n",
            "4/4 [==============================] - 0s 8ms/step - loss: 0.0127 - val_loss: 0.0182\n",
            "Epoch 66/120\n",
            "4/4 [==============================] - 0s 8ms/step - loss: 0.0126 - val_loss: 0.0176\n",
            "Epoch 67/120\n",
            "4/4 [==============================] - 0s 8ms/step - loss: 0.0126 - val_loss: 0.0170\n",
            "Epoch 68/120\n",
            "4/4 [==============================] - 0s 8ms/step - loss: 0.0125 - val_loss: 0.0166\n",
            "Epoch 69/120\n",
            "4/4 [==============================] - 0s 8ms/step - loss: 0.0124 - val_loss: 0.0160\n",
            "Epoch 70/120\n",
            "4/4 [==============================] - 0s 8ms/step - loss: 0.0124 - val_loss: 0.0157\n",
            "Epoch 71/120\n",
            "4/4 [==============================] - 0s 8ms/step - loss: 0.0124 - val_loss: 0.0153\n",
            "Epoch 72/120\n",
            "4/4 [==============================] - 0s 8ms/step - loss: 0.0123 - val_loss: 0.0150\n",
            "Epoch 73/120\n",
            "4/4 [==============================] - 0s 8ms/step - loss: 0.0122 - val_loss: 0.0147\n",
            "Epoch 74/120\n",
            "4/4 [==============================] - 0s 8ms/step - loss: 0.0122 - val_loss: 0.0145\n",
            "Epoch 75/120\n",
            "4/4 [==============================] - 0s 7ms/step - loss: 0.0122 - val_loss: 0.0142\n",
            "Epoch 76/120\n",
            "4/4 [==============================] - 0s 7ms/step - loss: 0.0122 - val_loss: 0.0140\n",
            "Epoch 77/120\n",
            "4/4 [==============================] - 0s 7ms/step - loss: 0.0123 - val_loss: 0.0137\n",
            "Epoch 78/120\n",
            "4/4 [==============================] - 0s 8ms/step - loss: 0.0122 - val_loss: 0.0135\n",
            "Epoch 79/120\n",
            "4/4 [==============================] - 0s 8ms/step - loss: 0.0121 - val_loss: 0.0134\n",
            "Epoch 80/120\n",
            "4/4 [==============================] - 0s 8ms/step - loss: 0.0121 - val_loss: 0.0132\n",
            "Epoch 81/120\n",
            "4/4 [==============================] - 0s 8ms/step - loss: 0.0121 - val_loss: 0.0131\n",
            "Epoch 82/120\n",
            "4/4 [==============================] - 0s 10ms/step - loss: 0.0121 - val_loss: 0.0130\n",
            "Epoch 83/120\n",
            "4/4 [==============================] - 0s 8ms/step - loss: 0.0121 - val_loss: 0.0129\n",
            "Epoch 84/120\n",
            "4/4 [==============================] - 0s 8ms/step - loss: 0.0120 - val_loss: 0.0128\n",
            "Epoch 85/120\n",
            "4/4 [==============================] - 0s 10ms/step - loss: 0.0121 - val_loss: 0.0127\n",
            "Epoch 86/120\n",
            "4/4 [==============================] - 0s 8ms/step - loss: 0.0121 - val_loss: 0.0126\n",
            "Epoch 87/120\n",
            "4/4 [==============================] - 0s 19ms/step - loss: 0.0122 - val_loss: 0.0126\n",
            "Epoch 88/120\n",
            "4/4 [==============================] - 0s 14ms/step - loss: 0.0121 - val_loss: 0.0125\n",
            "Epoch 89/120\n",
            "4/4 [==============================] - 0s 11ms/step - loss: 0.0120 - val_loss: 0.0125\n",
            "Epoch 90/120\n",
            "4/4 [==============================] - 0s 25ms/step - loss: 0.0120 - val_loss: 0.0124\n",
            "Epoch 91/120\n",
            "4/4 [==============================] - 0s 12ms/step - loss: 0.0121 - val_loss: 0.0124\n",
            "Epoch 92/120\n",
            "4/4 [==============================] - 0s 13ms/step - loss: 0.0120 - val_loss: 0.0124\n",
            "Epoch 93/120\n",
            "4/4 [==============================] - 0s 15ms/step - loss: 0.0120 - val_loss: 0.0123\n",
            "Epoch 94/120\n",
            "4/4 [==============================] - 0s 11ms/step - loss: 0.0120 - val_loss: 0.0123\n",
            "Epoch 95/120\n",
            "4/4 [==============================] - 0s 15ms/step - loss: 0.0120 - val_loss: 0.0123\n",
            "Epoch 96/120\n",
            "4/4 [==============================] - 0s 13ms/step - loss: 0.0121 - val_loss: 0.0123\n",
            "Epoch 97/120\n",
            "4/4 [==============================] - 0s 12ms/step - loss: 0.0120 - val_loss: 0.0122\n",
            "Epoch 98/120\n",
            "4/4 [==============================] - 0s 16ms/step - loss: 0.0120 - val_loss: 0.0122\n",
            "Epoch 99/120\n",
            "4/4 [==============================] - 0s 14ms/step - loss: 0.0121 - val_loss: 0.0123\n",
            "Epoch 100/120\n",
            "4/4 [==============================] - 0s 21ms/step - loss: 0.0120 - val_loss: 0.0122\n",
            "Epoch 101/120\n",
            "4/4 [==============================] - 0s 18ms/step - loss: 0.0121 - val_loss: 0.0122\n",
            "Epoch 102/120\n",
            "4/4 [==============================] - 0s 14ms/step - loss: 0.0120 - val_loss: 0.0121\n",
            "Epoch 103/120\n",
            "4/4 [==============================] - 0s 13ms/step - loss: 0.0121 - val_loss: 0.0122\n",
            "Epoch 104/120\n",
            "4/4 [==============================] - 0s 12ms/step - loss: 0.0120 - val_loss: 0.0121\n",
            "Epoch 105/120\n",
            "4/4 [==============================] - 0s 13ms/step - loss: 0.0120 - val_loss: 0.0121\n",
            "Epoch 106/120\n",
            "4/4 [==============================] - 0s 16ms/step - loss: 0.0120 - val_loss: 0.0121\n",
            "Epoch 107/120\n",
            "4/4 [==============================] - 0s 15ms/step - loss: 0.0120 - val_loss: 0.0121\n",
            "Epoch 108/120\n",
            "4/4 [==============================] - 0s 13ms/step - loss: 0.0120 - val_loss: 0.0121\n",
            "Epoch 109/120\n",
            "4/4 [==============================] - 0s 16ms/step - loss: 0.0120 - val_loss: 0.0121\n",
            "Epoch 110/120\n",
            "4/4 [==============================] - 0s 11ms/step - loss: 0.0121 - val_loss: 0.0121\n",
            "Epoch 111/120\n",
            "4/4 [==============================] - 0s 11ms/step - loss: 0.0121 - val_loss: 0.0121\n",
            "Epoch 112/120\n",
            "4/4 [==============================] - 0s 11ms/step - loss: 0.0120 - val_loss: 0.0121\n",
            "Epoch 113/120\n",
            "4/4 [==============================] - 0s 28ms/step - loss: 0.0120 - val_loss: 0.0120\n",
            "Epoch 114/120\n",
            "4/4 [==============================] - 0s 18ms/step - loss: 0.0120 - val_loss: 0.0120\n",
            "Epoch 115/120\n",
            "4/4 [==============================] - 0s 22ms/step - loss: 0.0120 - val_loss: 0.0120\n",
            "Epoch 116/120\n",
            "4/4 [==============================] - 0s 11ms/step - loss: 0.0120 - val_loss: 0.0120\n",
            "Epoch 117/120\n",
            "4/4 [==============================] - 0s 17ms/step - loss: 0.0120 - val_loss: 0.0120\n",
            "Epoch 118/120\n",
            "4/4 [==============================] - 0s 12ms/step - loss: 0.0121 - val_loss: 0.0120\n",
            "Epoch 119/120\n",
            "4/4 [==============================] - 0s 11ms/step - loss: 0.0120 - val_loss: 0.0120\n",
            "Epoch 120/120\n",
            "4/4 [==============================] - 0s 25ms/step - loss: 0.0121 - val_loss: 0.0120\n"
          ]
        }
      ]
    },
    {
      "cell_type": "code",
      "source": [
        "myModel.predict(x_test[:2])\n"
      ],
      "metadata": {
        "colab": {
          "base_uri": "https://localhost:8080/"
        },
        "id": "_Pc_4lz1Uky6",
        "outputId": "429bd1c5-7d42-4963-f82e-30c905aa3fbc"
      },
      "execution_count": 14,
      "outputs": [
        {
          "output_type": "stream",
          "name": "stdout",
          "text": [
            "1/1 [==============================] - 0s 15ms/step\n"
          ]
        },
        {
          "output_type": "execute_result",
          "data": {
            "text/plain": [
              "array([[38.059],\n",
              "       [38.059]], dtype=float32)"
            ]
          },
          "metadata": {},
          "execution_count": 14
        }
      ]
    },
    {
      "cell_type": "code",
      "source": [
        "y_pred=myModel.predict(x_test)"
      ],
      "metadata": {
        "colab": {
          "base_uri": "https://localhost:8080/"
        },
        "id": "i3dNHe9rxBZA",
        "outputId": "7f830496-1f06-4113-db0a-4d21c47a807a"
      },
      "execution_count": 42,
      "outputs": [
        {
          "output_type": "stream",
          "name": "stdout",
          "text": [
            "2/2 [==============================] - 0s 3ms/step\n"
          ]
        }
      ]
    },
    {
      "cell_type": "code",
      "source": [
        "\n"
      ],
      "metadata": {
        "id": "-D7mMwsWyasZ"
      },
      "execution_count": 54,
      "outputs": []
    },
    {
      "cell_type": "code",
      "source": [
        "real=y_test.values\n",
        "plt.figure(dpi=110)\n",
        "plt.plot(y_pred,label='predicted')\n",
        "plt.plot(real,label='real data')\n",
        "plt.ylim([37,40])\n",
        "plt.legend()\n"
      ],
      "metadata": {
        "colab": {
          "base_uri": "https://localhost:8080/",
          "height": 419
        },
        "id": "E2XydgyoxSXv",
        "outputId": "1a077249-fe74-4e37-df9b-4b46ff2841de"
      },
      "execution_count": 60,
      "outputs": [
        {
          "output_type": "execute_result",
          "data": {
            "text/plain": [
              "<matplotlib.legend.Legend at 0x7f0fb18b9760>"
            ]
          },
          "metadata": {},
          "execution_count": 60
        },
        {
          "output_type": "display_data",
          "data": {
            "text/plain": [
              "<Figure size 660x440 with 1 Axes>"
            ],
            "image/png": "[encoded data removed]"
          },
          "metadata": {
            "needs_background": "light"
          }
        }
      ]
    },
    {
      "cell_type": "code",
      "source": [
        "def plot_loss(history):\n",
        "  losses = history.history['loss']\n",
        "  val_losses = history.history['val_loss']\n",
        "  plt.figure(dpi=120)\n",
        "  plt.grid()\n",
        "  plt.xlabel(\"Epochs\")\n",
        "  plt.plot(losses,label=\"Loss\")\n",
        "  plt.plot(val_losses, label=\"val\")\n",
        "  #plt.ylim([0,200])\n",
        "  plt.legend()\n",
        "\n",
        "plot_loss(history)"
      ],
      "metadata": {
        "colab": {
          "base_uri": "https://localhost:8080/",
          "height": 457
        },
        "id": "KX0PHRTbRtbx",
        "outputId": "3217f725-a12a-498d-dc27-ccbfc07356c8"
      },
      "execution_count": 10,
      "outputs": [
        {
          "output_type": "display_data",
          "data": {
            "text/plain": [
              "<Figure size 720x480 with 1 Axes>"
            ],
            "image/png": "[encoded data removed]"
          },
          "metadata": {
            "needs_background": "light"
          }
        }
      ]
    }
  ]
}